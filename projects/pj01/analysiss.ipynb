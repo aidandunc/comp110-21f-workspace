{
 "cells": [
  {
   "cell_type": "markdown",
   "metadata": {},
   "source": [
    "# PR01: Choose Your Own Analysis: The Educational Effects of Online Learning\n",
    "\n",
    "Hello, and welcome to my analysis project. \n",
    "\n",
    "As technology becomes more and more integrated in modern education, educators and students alik must learn how to best utilize it to maximize its effects. When the pandemic forced us to attend class through our computer screens, we began to collectively examine technology's role in our education - for a lot of us, remote learning was incredibly tough, although for others, it wasn't. In this analysis, I want to conduct a series of connected analyses, all revolving around students' attitudes towards COMP110 based on whether or not they were remote and also whether or not they were on-campus. This will be a multifaceted analysis, and I will examine data on 1) students' interest in class when remote vs. in person, 2) student's understanding of material when remote vs. in person, and 3) difficulty perception when remote vs in person."
   ]
  },
  {
   "cell_type": "code",
   "execution_count": 2,
   "metadata": {},
   "outputs": [],
   "source": [
    "__author__ = \"730530326\""
   ]
  },
  {
   "cell_type": "markdown",
   "metadata": {},
   "source": [
    "Using extension to automatically reload imported modules. "
   ]
  },
  {
   "cell_type": "code",
   "execution_count": 3,
   "metadata": {},
   "outputs": [],
   "source": [
    "%reload_ext autoreload\n",
    "%autoreload 2"
   ]
  },
  {
   "cell_type": "markdown",
   "metadata": {},
   "source": [
    "Constants DATA_DIRECTORY and DATA_FILE_PATH defined to make accessing other files easy throughout hte analysis process. "
   ]
  },
  {
   "cell_type": "code",
   "execution_count": 4,
   "metadata": {},
   "outputs": [],
   "source": [
    "DATA_DIRECTORY=\"../../data\"\n",
    "DATA_FILE_PATH=f\"{DATA_DIRECTORY}/survey.csv\""
   ]
  },
  {
   "cell_type": "markdown",
   "metadata": {},
   "source": [
    "## 1. Reading in Data\n",
    "\n",
    "In this part of the analysis, I am reading in the csv of the provided data and listing the titles of each data column to make sure I am doing it correctly.\n",
    "\n"
   ]
  },
  {
   "cell_type": "code",
   "execution_count": 5,
   "metadata": {},
   "outputs": [
    {
     "name": "stdout",
     "output_type": "stream",
     "text": [
      "573 rows\n",
      "36 columns\n",
      "Columns names: dict_keys(['row_number', 'year', 'unc_status', 'comp_major', 'primary_major', 'data_science', 'prereqs', 'prior_exp', 'AP_Principles', 'AP_A', 'other_comp', 'prior_time', 'languages', 'section', 'in_person_classes', 'hours_online_social', 'hours_online_work', 'lesson_time', 'sync_perf', 'all_sync', 'own_notes', 'own_examples', 'oh_visits', 'ls_effective', 'lsqs_effective', 'programming_effective', 'qz_effective', 'oh_effective', 'tutoring_effective', 'kaki_effective', 'pace', 'difficulty', 'understanding', 'interesting', 'valuable', 'would_recommend'])\n"
     ]
    }
   ],
   "source": [
    "from data_utils import read_csv_rows\n",
    "data_rows: list[dict[str, str]] = read_csv_rows(DATA_FILE_PATH)\n",
    "\n",
    "print(f\"{len(data_rows)} rows\")\n",
    "print(f\"{len(data_rows[0].keys())} columns\")\n",
    "print(f\"Columns names: {data_rows[0].keys()}\")"
   ]
  },
  {
   "cell_type": "markdown",
   "metadata": {},
   "source": [
    "### 2. `column_values` and `data_filter` Function\n",
    "\n",
    "Here, I am reading in the file as a column-based table, then utilizing the column-values function to facilitate using a self-created function called data_filter. The data_filter function produces a dictionary of values and their counts in one column when another has a certain value in it. Here I test it out on the interesting, understanding, and difficulty functions when the corresponding section value has either \"In-Person\" or \"Remote\"."
   ]
  },
  {
   "cell_type": "code",
   "execution_count": 6,
   "metadata": {},
   "outputs": [
    {
     "name": "stdout",
     "output_type": "stream",
     "text": [
      "Interest rating breakdown for in-person students: {'5': 79, '7': 118, '6': 95, '4': 36, '3': 9, '2': 7, '1': 6}\n",
      "Understanding rating breakdown for in-person students: {'4': 85, '7': 25, '5': 82, '3': 62, '6': 51, '2': 25, '1': 20}\n",
      "Difficulty rating breakdown for in-person students: {'5': 101, '3': 35, '7': 48, '2': 23, '6': 70, '4': 69, '1': 4}\n",
      "Interest rating breakdown for remote students: {'7': 75, '6': 49, '5': 37, '4': 16, '2': 4, '3': 9, '1': 2}\n",
      "Understanding rating breakdown for remote students {'6': 31, '4': 35, '5': 56, '3': 28, '1': 8, '2': 19, '7': 15}\n",
      "Difficulty rating breakdown for remote students {'5': 52, '4': 47, '6': 37, '7': 28, '3': 15, '1': 7, '2': 6}\n"
     ]
    }
   ],
   "source": [
    "from data_utils import column_values, data_filter\n",
    "\n",
    "section: list[str] = column_values(data_rows, \"section\")\n",
    "interesting: list[str] = column_values(data_rows, \"interesting\")\n",
    "understanding: list[str] = column_values(data_rows, \"understanding\")\n",
    "difficulty: list[str] = column_values(data_rows, \"difficulty\")\n",
    "\n",
    "interesting_in_person = data_filter(section, interesting, \"In-Person\")\n",
    "understanding_in_person = data_filter(section, understanding, \"In-Person\")\n",
    "difficulty_in_person = data_filter(section, difficulty, \"In-Person\")\n",
    "interesting_remote = data_filter(section, interesting, \"Remote\")\n",
    "understanding_remote = data_filter(section, understanding, \"Remote\")\n",
    "difficulty_remote = data_filter(section, difficulty, \"Remote\")\n",
    "\n",
    "print(f\"Interest rating breakdown for in-person students: {interesting_in_person}\")\n",
    "print(f\"Understanding rating breakdown for in-person students: {understanding_in_person}\")\n",
    "print(f\"Difficulty rating breakdown for in-person students: {difficulty_in_person}\")\n",
    "print(f\"Interest rating breakdown for remote students: {interesting_remote}\")\n",
    "print(f\"Understanding rating breakdown for remote students {understanding_remote}\")\n",
    "print(f\"Difficulty rating breakdown for remote students {difficulty_remote}\")\n",
    "\n"
   ]
  },
  {
   "cell_type": "markdown",
   "metadata": {},
   "source": [
    "## 3. `columnar`, `head`, and `select` functions while using `tabulate` to organize beginning data into a neat table.    \n",
    "\n",
    "Using columnar and tabulate to format data in a table. I show the first 25 using the head function. \n"
   ]
  },
  {
   "cell_type": "code",
   "execution_count": 7,
   "metadata": {},
   "outputs": [
    {
     "data": {
      "text/html": [
       "<table>\n",
       "<thead>\n",
       "<tr><th>section  </th><th style=\"text-align: right;\">  difficulty</th><th style=\"text-align: right;\">  understanding</th><th style=\"text-align: right;\">  interesting</th></tr>\n",
       "</thead>\n",
       "<tbody>\n",
       "<tr><td>In-Person</td><td style=\"text-align: right;\">           5</td><td style=\"text-align: right;\">              4</td><td style=\"text-align: right;\">            5</td></tr>\n",
       "<tr><td>In-Person</td><td style=\"text-align: right;\">           3</td><td style=\"text-align: right;\">              7</td><td style=\"text-align: right;\">            7</td></tr>\n",
       "<tr><td>Remote   </td><td style=\"text-align: right;\">           5</td><td style=\"text-align: right;\">              6</td><td style=\"text-align: right;\">            7</td></tr>\n",
       "<tr><td>         </td><td style=\"text-align: right;\">           6</td><td style=\"text-align: right;\">              4</td><td style=\"text-align: right;\">            5</td></tr>\n",
       "<tr><td>Remote   </td><td style=\"text-align: right;\">           4</td><td style=\"text-align: right;\">              4</td><td style=\"text-align: right;\">            6</td></tr>\n",
       "<tr><td>Remote   </td><td style=\"text-align: right;\">           5</td><td style=\"text-align: right;\">              6</td><td style=\"text-align: right;\">            5</td></tr>\n",
       "<tr><td>Remote   </td><td style=\"text-align: right;\">           6</td><td style=\"text-align: right;\">              4</td><td style=\"text-align: right;\">            4</td></tr>\n",
       "<tr><td>Remote   </td><td style=\"text-align: right;\">           5</td><td style=\"text-align: right;\">              4</td><td style=\"text-align: right;\">            5</td></tr>\n",
       "<tr><td>Remote   </td><td style=\"text-align: right;\">           5</td><td style=\"text-align: right;\">              5</td><td style=\"text-align: right;\">            7</td></tr>\n",
       "<tr><td>Remote   </td><td style=\"text-align: right;\">           7</td><td style=\"text-align: right;\">              3</td><td style=\"text-align: right;\">            5</td></tr>\n",
       "<tr><td>Remote   </td><td style=\"text-align: right;\">           7</td><td style=\"text-align: right;\">              1</td><td style=\"text-align: right;\">            5</td></tr>\n",
       "<tr><td>In-Person</td><td style=\"text-align: right;\">           7</td><td style=\"text-align: right;\">              5</td><td style=\"text-align: right;\">            5</td></tr>\n",
       "<tr><td>In-Person</td><td style=\"text-align: right;\">           5</td><td style=\"text-align: right;\">              5</td><td style=\"text-align: right;\">            5</td></tr>\n",
       "<tr><td>In-Person</td><td style=\"text-align: right;\">           5</td><td style=\"text-align: right;\">              3</td><td style=\"text-align: right;\">            6</td></tr>\n",
       "<tr><td>In-Person</td><td style=\"text-align: right;\">           5</td><td style=\"text-align: right;\">              4</td><td style=\"text-align: right;\">            5</td></tr>\n",
       "<tr><td>In-Person</td><td style=\"text-align: right;\">           5</td><td style=\"text-align: right;\">              5</td><td style=\"text-align: right;\">            6</td></tr>\n",
       "<tr><td>In-Person</td><td style=\"text-align: right;\">           2</td><td style=\"text-align: right;\">              6</td><td style=\"text-align: right;\">            7</td></tr>\n",
       "<tr><td>In-Person</td><td style=\"text-align: right;\">           6</td><td style=\"text-align: right;\">              4</td><td style=\"text-align: right;\">            5</td></tr>\n",
       "<tr><td>In-Person</td><td style=\"text-align: right;\">           6</td><td style=\"text-align: right;\">              2</td><td style=\"text-align: right;\">            4</td></tr>\n",
       "<tr><td>In-Person</td><td style=\"text-align: right;\">           7</td><td style=\"text-align: right;\">              1</td><td style=\"text-align: right;\">            3</td></tr>\n",
       "<tr><td>In-Person</td><td style=\"text-align: right;\">           4</td><td style=\"text-align: right;\">              5</td><td style=\"text-align: right;\">            7</td></tr>\n",
       "<tr><td>In-Person</td><td style=\"text-align: right;\">           4</td><td style=\"text-align: right;\">              5</td><td style=\"text-align: right;\">            6</td></tr>\n",
       "<tr><td>In-Person</td><td style=\"text-align: right;\">           4</td><td style=\"text-align: right;\">              5</td><td style=\"text-align: right;\">            7</td></tr>\n",
       "<tr><td>In-Person</td><td style=\"text-align: right;\">           3</td><td style=\"text-align: right;\">              6</td><td style=\"text-align: right;\">            7</td></tr>\n",
       "<tr><td>In-Person</td><td style=\"text-align: right;\">           5</td><td style=\"text-align: right;\">              5</td><td style=\"text-align: right;\">            6</td></tr>\n",
       "</tbody>\n",
       "</table>"
      ],
      "text/plain": [
       "'<table>\\n<thead>\\n<tr><th>section  </th><th style=\"text-align: right;\">  difficulty</th><th style=\"text-align: right;\">  understanding</th><th style=\"text-align: right;\">  interesting</th></tr>\\n</thead>\\n<tbody>\\n<tr><td>In-Person</td><td style=\"text-align: right;\">           5</td><td style=\"text-align: right;\">              4</td><td style=\"text-align: right;\">            5</td></tr>\\n<tr><td>In-Person</td><td style=\"text-align: right;\">           3</td><td style=\"text-align: right;\">              7</td><td style=\"text-align: right;\">            7</td></tr>\\n<tr><td>Remote   </td><td style=\"text-align: right;\">           5</td><td style=\"text-align: right;\">              6</td><td style=\"text-align: right;\">            7</td></tr>\\n<tr><td>         </td><td style=\"text-align: right;\">           6</td><td style=\"text-align: right;\">              4</td><td style=\"text-align: right;\">            5</td></tr>\\n<tr><td>Remote   </td><td style=\"text-align: right;\">           4</td><td style=\"text-align: right;\">              4</td><td style=\"text-align: right;\">            6</td></tr>\\n<tr><td>Remote   </td><td style=\"text-align: right;\">           5</td><td style=\"text-align: right;\">              6</td><td style=\"text-align: right;\">            5</td></tr>\\n<tr><td>Remote   </td><td style=\"text-align: right;\">           6</td><td style=\"text-align: right;\">              4</td><td style=\"text-align: right;\">            4</td></tr>\\n<tr><td>Remote   </td><td style=\"text-align: right;\">           5</td><td style=\"text-align: right;\">              4</td><td style=\"text-align: right;\">            5</td></tr>\\n<tr><td>Remote   </td><td style=\"text-align: right;\">           5</td><td style=\"text-align: right;\">              5</td><td style=\"text-align: right;\">            7</td></tr>\\n<tr><td>Remote   </td><td style=\"text-align: right;\">           7</td><td style=\"text-align: right;\">              3</td><td style=\"text-align: right;\">            5</td></tr>\\n<tr><td>Remote   </td><td style=\"text-align: right;\">           7</td><td style=\"text-align: right;\">              1</td><td style=\"text-align: right;\">            5</td></tr>\\n<tr><td>In-Person</td><td style=\"text-align: right;\">           7</td><td style=\"text-align: right;\">              5</td><td style=\"text-align: right;\">            5</td></tr>\\n<tr><td>In-Person</td><td style=\"text-align: right;\">           5</td><td style=\"text-align: right;\">              5</td><td style=\"text-align: right;\">            5</td></tr>\\n<tr><td>In-Person</td><td style=\"text-align: right;\">           5</td><td style=\"text-align: right;\">              3</td><td style=\"text-align: right;\">            6</td></tr>\\n<tr><td>In-Person</td><td style=\"text-align: right;\">           5</td><td style=\"text-align: right;\">              4</td><td style=\"text-align: right;\">            5</td></tr>\\n<tr><td>In-Person</td><td style=\"text-align: right;\">           5</td><td style=\"text-align: right;\">              5</td><td style=\"text-align: right;\">            6</td></tr>\\n<tr><td>In-Person</td><td style=\"text-align: right;\">           2</td><td style=\"text-align: right;\">              6</td><td style=\"text-align: right;\">            7</td></tr>\\n<tr><td>In-Person</td><td style=\"text-align: right;\">           6</td><td style=\"text-align: right;\">              4</td><td style=\"text-align: right;\">            5</td></tr>\\n<tr><td>In-Person</td><td style=\"text-align: right;\">           6</td><td style=\"text-align: right;\">              2</td><td style=\"text-align: right;\">            4</td></tr>\\n<tr><td>In-Person</td><td style=\"text-align: right;\">           7</td><td style=\"text-align: right;\">              1</td><td style=\"text-align: right;\">            3</td></tr>\\n<tr><td>In-Person</td><td style=\"text-align: right;\">           4</td><td style=\"text-align: right;\">              5</td><td style=\"text-align: right;\">            7</td></tr>\\n<tr><td>In-Person</td><td style=\"text-align: right;\">           4</td><td style=\"text-align: right;\">              5</td><td style=\"text-align: right;\">            6</td></tr>\\n<tr><td>In-Person</td><td style=\"text-align: right;\">           4</td><td style=\"text-align: right;\">              5</td><td style=\"text-align: right;\">            7</td></tr>\\n<tr><td>In-Person</td><td style=\"text-align: right;\">           3</td><td style=\"text-align: right;\">              6</td><td style=\"text-align: right;\">            7</td></tr>\\n<tr><td>In-Person</td><td style=\"text-align: right;\">           5</td><td style=\"text-align: right;\">              5</td><td style=\"text-align: right;\">            6</td></tr>\\n</tbody>\\n</table>'"
      ]
     },
     "execution_count": 7,
     "metadata": {},
     "output_type": "execute_result"
    }
   ],
   "source": [
    "from data_utils import columnar\n",
    "from tabulate import tabulate\n",
    "from data_utils import head\n",
    "from data_utils import select\n",
    "\n",
    "\n",
    "data_cols_head_new: dict[str, list[str]] = head(columnar(data_rows), 25)\n",
    "subset: dict[str, list[str]] = select((data_cols_head_new), ['section', 'interesting', 'understanding', 'difficulty'])\n",
    "\n",
    "\n",
    "tabulate(subset, subset.keys(), \"html\")\n"
   ]
  },
  {
   "cell_type": "markdown",
   "metadata": {},
   "source": [
    "## 4. Calculating Averages for Each Demographic of People\n",
    "Here, I use another self-created function `average_rating_calculator` to calculate the average ratings for each group of students. I am getting ready to plot this data below. Printed averages are below to make sure I am implementing the function correctly."
   ]
  },
  {
   "cell_type": "code",
   "execution_count": 8,
   "metadata": {},
   "outputs": [
    {
     "name": "stdout",
     "output_type": "stream",
     "text": [
      "The average interest rating for in-person students was: 5.662857142857143\n",
      "The average understanding rating for in-person students was: 4.248571428571428\n",
      "The average difficulty rating for in-person students was: 4.8342857142857145\n",
      "The average interest rating for remote students was: 5.755208333333333\n",
      "The average understanding rating for remote students was: 4.380208333333333\n",
      "The average difficulty rating for remote students was: 4.84375\n"
     ]
    }
   ],
   "source": [
    "from data_utils import average_rating_calculator\n",
    "\n",
    "print(f\"The average interest rating for in-person students was: {average_rating_calculator(interesting_in_person)}\")\n",
    "print(f\"The average understanding rating for in-person students was: {average_rating_calculator(understanding_in_person)}\")\n",
    "print(f\"The average difficulty rating for in-person students was: {average_rating_calculator(difficulty_in_person)}\")\n",
    "print(f\"The average interest rating for remote students was: {average_rating_calculator(interesting_remote)}\")\n",
    "print(f\"The average understanding rating for remote students was: {average_rating_calculator(understanding_remote)}\")\n",
    "print(f\"The average difficulty rating for remote students was: {average_rating_calculator(difficulty_remote)}\")\n"
   ]
  },
  {
   "cell_type": "markdown",
   "metadata": {},
   "source": [
    "## 5. Charting averages with `matplotlib`\n",
    "\n",
    "Using all of the functions and data gathered previously, I am plotting the average interest, understanding, and difficulty ratings for in-person and remote learners. Each rating category (e.g. interesting) has two bars in the below bar graph - the blue has the average in-person ratings and the red has the average remote ratings. (sized at 15, 7, for some reason you need to run this code block twice in order for this size to actually show up.)"
   ]
  },
  {
   "cell_type": "code",
   "execution_count": 13,
   "metadata": {},
   "outputs": [
    {
     "data": {
      "image/png": "[encoded data removed]",
      "text/plain": [
       "<Figure size 1080x504 with 1 Axes>"
      ]
     },
     "metadata": {
      "needs_background": "light"
     },
     "output_type": "display_data"
    }
   ],
   "source": [
    "# libraries\n",
    "import numpy as np\n",
    "import matplotlib.pyplot as plt\n",
    " \n",
    "# create a dataset\n",
    "height = [average_rating_calculator(interesting_in_person), average_rating_calculator(interesting_remote), average_rating_calculator(understanding_in_person), average_rating_calculator(understanding_remote), average_rating_calculator(difficulty_in_person), average_rating_calculator(difficulty_remote)]\n",
    "bars = ('Interesting IP', 'Interesting R', 'Understanding IP', 'Understanding R', 'Difficulty IP', 'Difficulty R')\n",
    "x_pos = np.arange(len(bars))\n",
    "\n",
    "# Create bars with different colors\n",
    "plt.bar(x_pos, height, color=['blue', 'red', 'blue', 'red', 'blue', 'red'])\n",
    "\n",
    "# Create names on the x-axis\n",
    "plt.xticks(x_pos, bars)\n",
    "\n",
    "# Show graph\n",
    "plt.show()\n",
    "plt.rcParams[\"figure.figsize\"] = (15,7)"
   ]
  },
  {
   "cell_type": "markdown",
   "metadata": {},
   "source": [
    "### Conclusions \n",
    "There are slight but insignificant differences in each of the interesting, understanding, and difficulty ratings between remote and in-person students. I was expecting there to be sizeable decreases in the interesting and understanding ratings for the remote learners and increases in difficulty ratings for remote learners because of the widespread dislike of online learning. These results can relect a number of things, including but not limited to (as a remote learner, my favorite reason,) successful online integration of COMP110 or students' acclimation to the online learning atmosphere. "
   ]
  }
 ],
 "metadata": {
  "interpreter": {
   "hash": "aee8b7b246df8f9039afb4144a1f6fd8d2ca17a180786b69acc140d282b71a49"
  },
  "kernelspec": {
   "display_name": "Python 3.9.6 64-bit",
   "name": "python3"
  },
  "language_info": {
   "codemirror_mode": {
    "name": "ipython",
    "version": 3
   },
   "file_extension": ".py",
   "mimetype": "text/x-python",
   "name": "python",
   "nbconvert_exporter": "python",
   "pygments_lexer": "ipython3",
   "version": "3.9.6"
  }
 },
 "nbformat": 4,
 "nbformat_minor": 2
}
